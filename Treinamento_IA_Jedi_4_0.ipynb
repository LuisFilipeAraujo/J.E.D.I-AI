{
  "metadata": {
    "kernelspec": {
      "language": "python",
      "display_name": "Python 3",
      "name": "python3"
    },
    "language_info": {
      "name": "python",
      "version": "3.10.13",
      "mimetype": "text/x-python",
      "codemirror_mode": {
        "name": "ipython",
        "version": 3
      },
      "pygments_lexer": "ipython3",
      "nbconvert_exporter": "python",
      "file_extension": ".py"
    },
    "kaggle": {
      "accelerator": "none",
      "dataSources": [
        {
          "sourceId": 7772190,
          "sourceType": "datasetVersion",
          "datasetId": 4543007
        }
      ],
      "dockerImageVersionId": 30684,
      "isInternetEnabled": true,
      "language": "python",
      "sourceType": "notebook",
      "isGpuEnabled": false
    },
    "colab": {
      "name": "Treinamento IA Jedi 4.0",
      "provenance": [],
      "include_colab_link": true
    }
  },
  "nbformat_minor": 0,
  "nbformat": 4,
  "cells": [
    {
      "cell_type": "markdown",
      "metadata": {
        "id": "view-in-github",
        "colab_type": "text"
      },
      "source": [
        "<a href=\"https://colab.research.google.com/github/LuisFilipeAraujo/J.E.D.I-AI/blob/main/Treinamento_IA_Jedi_4_0.ipynb\" target=\"_parent\"><img src=\"https://colab.research.google.com/assets/colab-badge.svg\" alt=\"Open In Colab\"/></a>"
      ]
    },
    {
      "source": [
        "\n",
        "# IMPORTANT: RUN THIS CELL IN ORDER TO IMPORT YOUR KAGGLE DATA SOURCES\n",
        "# TO THE CORRECT LOCATION (/kaggle/input) IN YOUR NOTEBOOK,\n",
        "# THEN FEEL FREE TO DELETE THIS CELL.\n",
        "# NOTE: THIS NOTEBOOK ENVIRONMENT DIFFERS FROM KAGGLE'S PYTHON\n",
        "# ENVIRONMENT SO THERE MAY BE MISSING LIBRARIES USED BY YOUR\n",
        "# NOTEBOOK.\n",
        "\n",
        "import os\n",
        "import sys\n",
        "from tempfile import NamedTemporaryFile\n",
        "from urllib.request import urlopen\n",
        "from urllib.parse import unquote, urlparse\n",
        "from urllib.error import HTTPError\n",
        "from zipfile import ZipFile\n",
        "import tarfile\n",
        "import shutil\n",
        "\n",
        "CHUNK_SIZE = 40960\n",
        "DATA_SOURCE_MAPPING = ':https%3A%2F%2Fstorage.googleapis.com%2Fkaggle-data-sets%2F4543007%2F7772190%2Fbundle%2Farchive.zip%3FX-Goog-Algorithm%3DGOOG4-RSA-SHA256%26X-Goog-Credential%3Dgcp-kaggle-com%2540kaggle-161607.iam.gserviceaccount.com%252F20240415%252Fauto%252Fstorage%252Fgoog4_request%26X-Goog-Date%3D20240415T171253Z%26X-Goog-Expires%3D259200%26X-Goog-SignedHeaders%3Dhost%26X-Goog-Signature%3D8f3c5335fca91a2d8772d46d90d81deb645edf5e54cca882f0b0eeb83922b970c64ca1e7ba8d030b98fbeb22578f42173c718f7aca57a9257ab4712adffb9509838b0d6e33240f2c9698bec57774f1b36ebe4e701b053803a8aa8b46b6d09ffbcc2bb4634e8de9f6403465f7928987893135b7ead544cbbf09118737266c8f2cfb9b43e2f8640b9f4ce1ba683dd734d016d3cbe6771d3270a90363bace6e32677712f26f7f7b24e10112e641478ac8b8548fd4c44ab039b0ae451b4e451f322fb282120998490d92bddf227eb0160fa10e7a8e0844d6d55d51a079cd001fa7e3e5b3b82d772ce6ac06ecd669d071768e215b0350882f70aedcc40fcd38741484'\n",
        "\n",
        "KAGGLE_INPUT_PATH='/kaggle/input'\n",
        "KAGGLE_WORKING_PATH='/kaggle/working'\n",
        "KAGGLE_SYMLINK='kaggle'\n",
        "\n",
        "!umount /kaggle/input/ 2> /dev/null\n",
        "shutil.rmtree('/kaggle/input', ignore_errors=True)\n",
        "os.makedirs(KAGGLE_INPUT_PATH, 0o777, exist_ok=True)\n",
        "os.makedirs(KAGGLE_WORKING_PATH, 0o777, exist_ok=True)\n",
        "\n",
        "try:\n",
        "  os.symlink(KAGGLE_INPUT_PATH, os.path.join(\"..\", 'input'), target_is_directory=True)\n",
        "except FileExistsError:\n",
        "  pass\n",
        "try:\n",
        "  os.symlink(KAGGLE_WORKING_PATH, os.path.join(\"..\", 'working'), target_is_directory=True)\n",
        "except FileExistsError:\n",
        "  pass\n",
        "\n",
        "for data_source_mapping in DATA_SOURCE_MAPPING.split(','):\n",
        "    directory, download_url_encoded = data_source_mapping.split(':')\n",
        "    download_url = unquote(download_url_encoded)\n",
        "    filename = urlparse(download_url).path\n",
        "    destination_path = os.path.join(KAGGLE_INPUT_PATH, directory)\n",
        "    try:\n",
        "        with urlopen(download_url) as fileres, NamedTemporaryFile() as tfile:\n",
        "            total_length = fileres.headers['content-length']\n",
        "            print(f'Downloading {directory}, {total_length} bytes compressed')\n",
        "            dl = 0\n",
        "            data = fileres.read(CHUNK_SIZE)\n",
        "            while len(data) > 0:\n",
        "                dl += len(data)\n",
        "                tfile.write(data)\n",
        "                done = int(50 * dl / int(total_length))\n",
        "                sys.stdout.write(f\"\\r[{'=' * done}{' ' * (50-done)}] {dl} bytes downloaded\")\n",
        "                sys.stdout.flush()\n",
        "                data = fileres.read(CHUNK_SIZE)\n",
        "            if filename.endswith('.zip'):\n",
        "              with ZipFile(tfile) as zfile:\n",
        "                zfile.extractall(destination_path)\n",
        "            else:\n",
        "              with tarfile.open(tfile.name) as tarfile:\n",
        "                tarfile.extractall(destination_path)\n",
        "            print(f'\\nDownloaded and uncompressed: {directory}')\n",
        "    except HTTPError as e:\n",
        "        print(f'Failed to load (likely expired) {download_url} to path {destination_path}')\n",
        "        continue\n",
        "    except OSError as e:\n",
        "        print(f'Failed to load {download_url} to path {destination_path}')\n",
        "        continue\n",
        "\n",
        "print('Data source import complete.')\n"
      ],
      "metadata": {
        "id": "v8zB90qOv3FL"
      },
      "cell_type": "code",
      "outputs": [],
      "execution_count": null
    },
    {
      "cell_type": "markdown",
      "source": [
        "# Importing necessary Modules"
      ],
      "metadata": {
        "id": "OZpb3k0ev3FR"
      }
    },
    {
      "cell_type": "code",
      "source": [
        "import pandas as pd\n",
        "import numpy as np\n",
        "import matplotlib.pyplot as plt\n",
        "import seaborn as sns\n",
        "\n",
        "import warnings\n",
        "warnings.filterwarnings('ignore')"
      ],
      "metadata": {
        "execution": {
          "iopub.status.busy": "2024-04-12T18:02:08.997675Z",
          "iopub.execute_input": "2024-04-12T18:02:08.99808Z",
          "iopub.status.idle": "2024-04-12T18:02:09.003999Z",
          "shell.execute_reply.started": "2024-04-12T18:02:08.998046Z",
          "shell.execute_reply": "2024-04-12T18:02:09.002268Z"
        },
        "trusted": true,
        "id": "jeSsCVl0v3FS"
      },
      "execution_count": null,
      "outputs": []
    },
    {
      "cell_type": "markdown",
      "source": [
        "# Loading the data and further cleaning"
      ],
      "metadata": {
        "id": "RbVQxzQlv3FT"
      }
    },
    {
      "cell_type": "code",
      "source": [
        "raw_df = pd.read_csv('/kaggle/input/Popular_Spotify_Songs.csv', encoding = 'latin-1')\n",
        "raw_df.head()"
      ],
      "metadata": {
        "execution": {
          "iopub.status.busy": "2024-04-12T18:02:09.006429Z",
          "iopub.execute_input": "2024-04-12T18:02:09.006837Z",
          "iopub.status.idle": "2024-04-12T18:02:09.042502Z",
          "shell.execute_reply.started": "2024-04-12T18:02:09.006805Z",
          "shell.execute_reply": "2024-04-12T18:02:09.041301Z"
        },
        "trusted": true,
        "id": "aBiry4Mdv3FT"
      },
      "execution_count": null,
      "outputs": []
    },
    {
      "cell_type": "code",
      "source": [
        "raw_df.shape"
      ],
      "metadata": {
        "execution": {
          "iopub.status.busy": "2024-04-12T18:02:09.043709Z",
          "iopub.execute_input": "2024-04-12T18:02:09.044084Z",
          "iopub.status.idle": "2024-04-12T18:02:09.051389Z",
          "shell.execute_reply.started": "2024-04-12T18:02:09.044054Z",
          "shell.execute_reply": "2024-04-12T18:02:09.050324Z"
        },
        "trusted": true,
        "id": "uW8Lx3-Gv3FU"
      },
      "execution_count": null,
      "outputs": []
    },
    {
      "cell_type": "code",
      "source": [
        "raw_df.info()"
      ],
      "metadata": {
        "execution": {
          "iopub.status.busy": "2024-04-12T18:02:09.053021Z",
          "iopub.execute_input": "2024-04-12T18:02:09.053868Z",
          "iopub.status.idle": "2024-04-12T18:02:09.072661Z",
          "shell.execute_reply.started": "2024-04-12T18:02:09.053825Z",
          "shell.execute_reply": "2024-04-12T18:02:09.071509Z"
        },
        "trusted": true,
        "id": "qHKuazEWv3FU"
      },
      "execution_count": null,
      "outputs": []
    },
    {
      "cell_type": "code",
      "source": [
        "raw_df.describe()"
      ],
      "metadata": {
        "execution": {
          "iopub.status.busy": "2024-04-12T18:02:09.078303Z",
          "iopub.execute_input": "2024-04-12T18:02:09.078634Z",
          "iopub.status.idle": "2024-04-12T18:02:09.135827Z",
          "shell.execute_reply.started": "2024-04-12T18:02:09.078604Z",
          "shell.execute_reply": "2024-04-12T18:02:09.13457Z"
        },
        "trusted": true,
        "id": "1_u6Jq2xv3FV"
      },
      "execution_count": null,
      "outputs": []
    },
    {
      "cell_type": "code",
      "source": [
        "mask = raw_df['streams'].str.isnumeric()\n",
        "\n",
        "# '~' : negação\n",
        "raw_df.loc[~mask]"
      ],
      "metadata": {
        "execution": {
          "iopub.status.busy": "2024-04-12T18:02:09.137278Z",
          "iopub.execute_input": "2024-04-12T18:02:09.137616Z",
          "iopub.status.idle": "2024-04-12T18:02:09.159663Z",
          "shell.execute_reply.started": "2024-04-12T18:02:09.137588Z",
          "shell.execute_reply": "2024-04-12T18:02:09.15848Z"
        },
        "trusted": true,
        "id": "T8LEfbsvv3FV"
      },
      "execution_count": null,
      "outputs": []
    },
    {
      "cell_type": "code",
      "source": [
        "print(\"antes\", raw_df.shape)\n",
        "raw_df = raw_df.loc[mask]\n",
        "\n",
        "print(\"depois\", raw_df.shape)\n",
        "\n",
        "raw_df.streams = raw_df.streams.astype('int64')"
      ],
      "metadata": {
        "execution": {
          "iopub.status.busy": "2024-04-12T18:02:09.161535Z",
          "iopub.execute_input": "2024-04-12T18:02:09.161982Z",
          "iopub.status.idle": "2024-04-12T18:02:09.171561Z",
          "shell.execute_reply.started": "2024-04-12T18:02:09.16194Z",
          "shell.execute_reply": "2024-04-12T18:02:09.170168Z"
        },
        "trusted": true,
        "id": "poq1Xg8Gv3FV"
      },
      "execution_count": null,
      "outputs": []
    },
    {
      "cell_type": "code",
      "source": [
        "df = raw_df.copy()"
      ],
      "metadata": {
        "execution": {
          "iopub.status.busy": "2024-04-12T18:02:09.173169Z",
          "iopub.execute_input": "2024-04-12T18:02:09.173592Z",
          "iopub.status.idle": "2024-04-12T18:02:09.18252Z",
          "shell.execute_reply.started": "2024-04-12T18:02:09.173552Z",
          "shell.execute_reply": "2024-04-12T18:02:09.181134Z"
        },
        "trusted": true,
        "id": "SPLHnTdzv3FW"
      },
      "execution_count": null,
      "outputs": []
    },
    {
      "cell_type": "code",
      "source": [
        "df.columns"
      ],
      "metadata": {
        "execution": {
          "iopub.status.busy": "2024-04-12T18:02:09.184272Z",
          "iopub.execute_input": "2024-04-12T18:02:09.184897Z",
          "iopub.status.idle": "2024-04-12T18:02:09.195077Z",
          "shell.execute_reply.started": "2024-04-12T18:02:09.184854Z",
          "shell.execute_reply": "2024-04-12T18:02:09.193976Z"
        },
        "trusted": true,
        "id": "fdyiLtZfv3FW"
      },
      "execution_count": null,
      "outputs": []
    },
    {
      "cell_type": "code",
      "source": [
        "df['artist(s)_name'].unique()[:10]"
      ],
      "metadata": {
        "execution": {
          "iopub.status.busy": "2024-04-12T18:02:09.196918Z",
          "iopub.execute_input": "2024-04-12T18:02:09.197237Z",
          "iopub.status.idle": "2024-04-12T18:02:09.205578Z",
          "shell.execute_reply.started": "2024-04-12T18:02:09.197209Z",
          "shell.execute_reply": "2024-04-12T18:02:09.204696Z"
        },
        "trusted": true,
        "id": "Vr3qUGLuv3FW"
      },
      "execution_count": null,
      "outputs": []
    },
    {
      "cell_type": "code",
      "source": [
        "# importancia da normalização\n",
        "'J. Cole' in (df['artist(s)_name'].values)"
      ],
      "metadata": {
        "execution": {
          "iopub.status.busy": "2024-04-12T18:02:09.207218Z",
          "iopub.execute_input": "2024-04-12T18:02:09.20804Z",
          "iopub.status.idle": "2024-04-12T18:02:09.214881Z",
          "shell.execute_reply.started": "2024-04-12T18:02:09.207993Z",
          "shell.execute_reply": "2024-04-12T18:02:09.214019Z"
        },
        "trusted": true,
        "id": "7cGO15hlv3FX"
      },
      "execution_count": null,
      "outputs": []
    },
    {
      "cell_type": "code",
      "source": [
        "# normalizar df['artist(s)_name']"
      ],
      "metadata": {
        "execution": {
          "iopub.status.busy": "2024-04-12T18:02:09.216932Z",
          "iopub.execute_input": "2024-04-12T18:02:09.217612Z",
          "iopub.status.idle": "2024-04-12T18:02:09.221724Z",
          "shell.execute_reply.started": "2024-04-12T18:02:09.217567Z",
          "shell.execute_reply": "2024-04-12T18:02:09.220644Z"
        },
        "trusted": true,
        "id": "839aKCXuv3FX"
      },
      "execution_count": null,
      "outputs": []
    },
    {
      "cell_type": "code",
      "source": [
        "# pegar artista principal da musica\n",
        "temp = df['artist(s)_name'].str.split(',').str[0]\n",
        "df['artist(s)_name'] = temp\n",
        "df.rename(columns={'artist(s)_name':'artist'}, inplace=True)\n",
        "df['artist'].head()"
      ],
      "metadata": {
        "execution": {
          "iopub.status.busy": "2024-04-12T18:02:09.226943Z",
          "iopub.execute_input": "2024-04-12T18:02:09.22793Z",
          "iopub.status.idle": "2024-04-12T18:02:09.242074Z",
          "shell.execute_reply.started": "2024-04-12T18:02:09.227898Z",
          "shell.execute_reply": "2024-04-12T18:02:09.241052Z"
        },
        "trusted": true,
        "id": "1LQzusx6v3FX"
      },
      "execution_count": null,
      "outputs": []
    },
    {
      "cell_type": "code",
      "source": [
        "df.head()"
      ],
      "metadata": {
        "execution": {
          "iopub.status.busy": "2024-04-12T18:02:09.243691Z",
          "iopub.execute_input": "2024-04-12T18:02:09.244485Z",
          "iopub.status.idle": "2024-04-12T18:02:09.268768Z",
          "shell.execute_reply.started": "2024-04-12T18:02:09.244451Z",
          "shell.execute_reply": "2024-04-12T18:02:09.266861Z"
        },
        "trusted": true,
        "id": "y6UPewCwv3FX"
      },
      "execution_count": null,
      "outputs": []
    },
    {
      "cell_type": "code",
      "source": [
        "# tratamento de data\n",
        "\n",
        "# Passando dia da semana de numérico para nome do dia;\n",
        "#     dependencia de ano e mes\n",
        "temp = pd.DataFrame({'year':df.released_year, 'month':df.released_month, 'day':df.released_day})\n",
        "temp = pd.to_datetime(temp).dt.day_name()\n",
        "df.released_day = temp\n",
        "df.head()"
      ],
      "metadata": {
        "execution": {
          "iopub.status.busy": "2024-04-12T18:02:09.270441Z",
          "iopub.execute_input": "2024-04-12T18:02:09.270871Z",
          "iopub.status.idle": "2024-04-12T18:02:09.302512Z",
          "shell.execute_reply.started": "2024-04-12T18:02:09.270841Z",
          "shell.execute_reply": "2024-04-12T18:02:09.301563Z"
        },
        "trusted": true,
        "id": "G5V_Y3Xrv3FX"
      },
      "execution_count": null,
      "outputs": []
    },
    {
      "cell_type": "markdown",
      "source": [
        "# Exploratory Data Analysis\n",
        "\n",
        "#### Here we will explore the data and try to gain as much insight as possible"
      ],
      "metadata": {
        "id": "55wxOGx5v3FY"
      }
    },
    {
      "cell_type": "markdown",
      "source": [
        "## No. of Unique Artist"
      ],
      "metadata": {
        "id": "1ghgceuZv3FY"
      }
    },
    {
      "cell_type": "code",
      "source": [
        "# difentes formas de fazer a mesma coisa\n",
        "len(df['artist'].unique())"
      ],
      "metadata": {
        "execution": {
          "iopub.status.busy": "2024-04-12T18:02:09.303993Z",
          "iopub.execute_input": "2024-04-12T18:02:09.304614Z",
          "iopub.status.idle": "2024-04-12T18:02:09.311736Z",
          "shell.execute_reply.started": "2024-04-12T18:02:09.304581Z",
          "shell.execute_reply": "2024-04-12T18:02:09.310457Z"
        },
        "trusted": true,
        "id": "2soAvZlGv3FY"
      },
      "execution_count": null,
      "outputs": []
    },
    {
      "cell_type": "code",
      "source": [
        "df['artist'].unique().shape[0]"
      ],
      "metadata": {
        "execution": {
          "iopub.status.busy": "2024-04-12T18:02:09.313386Z",
          "iopub.execute_input": "2024-04-12T18:02:09.314059Z",
          "iopub.status.idle": "2024-04-12T18:02:09.324119Z",
          "shell.execute_reply.started": "2024-04-12T18:02:09.314021Z",
          "shell.execute_reply": "2024-04-12T18:02:09.322965Z"
        },
        "trusted": true,
        "id": "-5-1gjlRv3FY"
      },
      "execution_count": null,
      "outputs": []
    },
    {
      "cell_type": "code",
      "source": [
        "df['artist'].nunique()"
      ],
      "metadata": {
        "execution": {
          "iopub.status.busy": "2024-04-12T18:02:09.32559Z",
          "iopub.execute_input": "2024-04-12T18:02:09.326017Z",
          "iopub.status.idle": "2024-04-12T18:02:09.337362Z",
          "shell.execute_reply.started": "2024-04-12T18:02:09.325978Z",
          "shell.execute_reply": "2024-04-12T18:02:09.336116Z"
        },
        "trusted": true,
        "id": "dP6xnG2gv3FY"
      },
      "execution_count": null,
      "outputs": []
    },
    {
      "cell_type": "markdown",
      "source": [
        "Their are total 458 unique artist in the dataset"
      ],
      "metadata": {
        "id": "Eght3fYtv3FY"
      }
    },
    {
      "cell_type": "markdown",
      "source": [
        "## Number of Songs released (1980-2022)"
      ],
      "metadata": {
        "id": "scUq1Wdlv3FY"
      }
    },
    {
      "cell_type": "code",
      "source": [
        "ax = sns.histplot(df['released_year'], binrange=(1980, 2022), discrete=True)\n",
        "ax.set(xlabel='Year', ylabel='Count')\n",
        "ax.set_title('Total Songs Released Per Year (1980 - 2024)')\n",
        "plt.show()"
      ],
      "metadata": {
        "execution": {
          "iopub.status.busy": "2024-04-12T18:02:09.339031Z",
          "iopub.execute_input": "2024-04-12T18:02:09.340184Z",
          "iopub.status.idle": "2024-04-12T18:02:09.690292Z",
          "shell.execute_reply.started": "2024-04-12T18:02:09.34014Z",
          "shell.execute_reply": "2024-04-12T18:02:09.689089Z"
        },
        "trusted": true,
        "id": "qiI0D17Vv3FZ"
      },
      "execution_count": null,
      "outputs": []
    },
    {
      "cell_type": "markdown",
      "source": [
        "Most of the songs in dataset were released in year 2022"
      ],
      "metadata": {
        "id": "cnCb6Pbov3FZ"
      }
    },
    {
      "cell_type": "markdown",
      "source": [
        "## Trend of Song Release Month"
      ],
      "metadata": {
        "id": "b-57bPd0v3FZ"
      }
    },
    {
      "cell_type": "code",
      "source": [
        "ax = sns.histplot(df['released_month'], discrete=True)\n",
        "ax.set(xlabel='Month', ylabel='Count')\n",
        "ax.set_title('Songs Released Group-By Months')\n",
        "ax.set_xticks(range(1, 13))\n",
        "ax.set_xticklabels(['Jan', 'Feb', 'Mar', 'Apr', 'May', 'Jun', 'Jul', 'Aug', 'Sep', 'Oct', 'Nov', 'Dec'])\n",
        "plt.show()"
      ],
      "metadata": {
        "execution": {
          "iopub.status.busy": "2024-04-12T18:02:09.691633Z",
          "iopub.execute_input": "2024-04-12T18:02:09.691945Z",
          "iopub.status.idle": "2024-04-12T18:02:09.976648Z",
          "shell.execute_reply.started": "2024-04-12T18:02:09.691918Z",
          "shell.execute_reply": "2024-04-12T18:02:09.975372Z"
        },
        "trusted": true,
        "id": "XBF0kry3v3FZ"
      },
      "execution_count": null,
      "outputs": []
    },
    {
      "cell_type": "markdown",
      "source": [
        "January saw the most released of the songs followed by May. August witness least song release."
      ],
      "metadata": {
        "id": "pEQAXVRjv3FZ"
      }
    },
    {
      "cell_type": "markdown",
      "source": [
        "## Trend of Song release Day"
      ],
      "metadata": {
        "id": "VFK2gmc8v3FZ"
      }
    },
    {
      "cell_type": "code",
      "source": [
        "ax = sns.histplot(df['released_day'])\n",
        "ax.set(xlabel='Day', ylabel='Count')\n",
        "ax.set_title('Songs Released Group-By Day')\n",
        "plt.xticks(rotation = 30)\n",
        "plt.show()"
      ],
      "metadata": {
        "execution": {
          "iopub.status.busy": "2024-04-12T18:02:09.978252Z",
          "iopub.execute_input": "2024-04-12T18:02:09.97872Z",
          "iopub.status.idle": "2024-04-12T18:02:10.227579Z",
          "shell.execute_reply.started": "2024-04-12T18:02:09.978678Z",
          "shell.execute_reply": "2024-04-12T18:02:10.226444Z"
        },
        "trusted": true,
        "id": "23DbUaYzv3FZ"
      },
      "execution_count": null,
      "outputs": []
    },
    {
      "cell_type": "markdown",
      "source": [
        "Most of the songs were released on Friday. This can be because people are more likely to stream music on weekends when they are free."
      ],
      "metadata": {
        "id": "tr6ksvRmv3FZ"
      }
    },
    {
      "cell_type": "markdown",
      "source": [
        "## Top 10 Artist with most song released"
      ],
      "metadata": {
        "id": "ZJeHvoE5v3Fa"
      }
    },
    {
      "cell_type": "code",
      "source": [
        "temp = df.artist.value_counts().to_frame().head(10).iloc[:, 0]\n",
        "temp_df = pd.DataFrame({'artist':temp.index, 'count':temp})\n",
        "\n",
        "ax = sns.barplot(temp_df, y = 'artist', x = 'count')\n",
        "ax.set(xlabel='Artist', ylabel='Total Songs')\n",
        "ax.set_title('Artist with most songs')\n",
        "\n",
        "plt.show()"
      ],
      "metadata": {
        "execution": {
          "iopub.status.busy": "2024-04-12T18:02:10.22943Z",
          "iopub.execute_input": "2024-04-12T18:02:10.230454Z",
          "iopub.status.idle": "2024-04-12T18:02:10.520665Z",
          "shell.execute_reply.started": "2024-04-12T18:02:10.2304Z",
          "shell.execute_reply": "2024-04-12T18:02:10.519367Z"
        },
        "trusted": true,
        "id": "TSvPvBYhv3Fa"
      },
      "execution_count": null,
      "outputs": []
    },
    {
      "cell_type": "markdown",
      "source": [
        "Taylor Swift have the most songs released, followed by The Weeknd and Spanish Singer Bad Bunny."
      ],
      "metadata": {
        "id": "UwW0dx_bv3Fa"
      }
    },
    {
      "cell_type": "markdown",
      "source": [
        "## Beats Per Minute (BPM)"
      ],
      "metadata": {
        "id": "kJuJF6NYv3Fa"
      }
    },
    {
      "cell_type": "code",
      "source": [
        "ax = sns.histplot(df, x='bpm', bins=14)\n",
        "ax.set_title('Beats per Minute (BPM) in songs')\n",
        "plt.show()"
      ],
      "metadata": {
        "execution": {
          "iopub.status.busy": "2024-04-12T18:02:10.522179Z",
          "iopub.execute_input": "2024-04-12T18:02:10.523017Z",
          "iopub.status.idle": "2024-04-12T18:02:10.972513Z",
          "shell.execute_reply.started": "2024-04-12T18:02:10.522982Z",
          "shell.execute_reply": "2024-04-12T18:02:10.971317Z"
        },
        "trusted": true,
        "id": "EYqQ5g2xv3Fa"
      },
      "execution_count": null,
      "outputs": []
    },
    {
      "cell_type": "markdown",
      "source": [
        "120 BPM was the artist favourite. While 90,100,130 and 140 have equal preference among others."
      ],
      "metadata": {
        "id": "WkqbXvnXv3Fa"
      }
    },
    {
      "cell_type": "markdown",
      "source": [
        "## Top 10 songs according to their number in Playlist, Chart and Total Stream"
      ],
      "metadata": {
        "id": "aODBbaKvv3Ff"
      }
    },
    {
      "cell_type": "code",
      "source": [
        "play = df.sort_values(by='in_spotify_playlists', ascending=False)\n",
        "play = play[['track_name', 'in_spotify_playlists']][:10]\n",
        "\n",
        "chart = df.sort_values(by='in_spotify_charts', ascending=False)\n",
        "chart = chart[['track_name', 'in_spotify_charts']][:10]\n",
        "\n",
        "stream = df.sort_values(by='streams', ascending=False)\n",
        "stream = stream[['track_name', 'streams']][:10]\n",
        "\n",
        "fig, axes = plt.subplots(3,1,figsize=(10,10))\n",
        "plt.subplot(3,1,1)\n",
        "ax1 = sns.barplot(play, y='track_name', x='in_spotify_playlists')\n",
        "ax1.set_xlabel('count of spotify playlist')\n",
        "ax1.set_title('Top songs according to playlist')\n",
        "\n",
        "plt.subplot(3,1,2)\n",
        "ax1 = sns.barplot(chart, y='track_name', x='in_spotify_charts')\n",
        "ax1.set_xlabel('Charts')\n",
        "ax1.set_title('Top songs according to Charts')\n",
        "\n",
        "\n",
        "plt.subplot(3,1,3)\n",
        "ax1 = sns.barplot(stream, y='track_name', x='streams')\n",
        "ax1.set_xlabel('Total Streams')\n",
        "ax1.set_title('Top songs according to Streams')\n",
        "\n",
        "plt.tight_layout()\n",
        "plt.show()"
      ],
      "metadata": {
        "execution": {
          "iopub.status.busy": "2024-04-12T18:02:10.973962Z",
          "iopub.execute_input": "2024-04-12T18:02:10.974277Z",
          "iopub.status.idle": "2024-04-12T18:02:11.919499Z",
          "shell.execute_reply.started": "2024-04-12T18:02:10.974249Z",
          "shell.execute_reply": "2024-04-12T18:02:11.918543Z"
        },
        "trusted": true,
        "id": "GV07Zlckv3Ff"
      },
      "execution_count": null,
      "outputs": []
    },
    {
      "cell_type": "markdown",
      "source": [
        "\"Get Lucky - Radio Edit\" was the most saved songs on chart, while \"Blinding Lights\" was the most streamed song. \"Seven (feat. Latto)\" was the Chart favourite song."
      ],
      "metadata": {
        "id": "BJgM86unv3Ff"
      }
    },
    {
      "cell_type": "markdown",
      "source": [
        "## Top 10 artist according to playlist, chart and total streams"
      ],
      "metadata": {
        "id": "VjBw-7Xbv3Ff"
      }
    },
    {
      "cell_type": "code",
      "source": [
        "play = df.sort_values(by='in_spotify_playlists', ascending=False)\n",
        "play = play[['artist', 'in_spotify_playlists']][:10]\n",
        "\n",
        "chart = df.sort_values(by='in_spotify_charts', ascending=False)\n",
        "chart = chart[['artist', 'in_spotify_charts']][:10]\n",
        "\n",
        "stream = df.sort_values(by='streams', ascending=False)\n",
        "stream = stream[['artist', 'streams']][:10]\n",
        "\n",
        "fig, axes = plt.subplots(3,1,figsize=(10,10))\n",
        "plt.subplot(3,1,1)\n",
        "ax1 = sns.barplot(play, y='artist', x='in_spotify_playlists')\n",
        "ax1.set_xlabel('count of spotify playlist')\n",
        "ax1.set_title('Top artist according to playlist')\n",
        "\n",
        "plt.subplot(3,1,2)\n",
        "ax1 = sns.barplot(chart, y='artist', x='in_spotify_charts')\n",
        "ax1.set_xlabel('Charts')\n",
        "ax1.set_title('Top artist according to Charts')\n",
        "\n",
        "\n",
        "plt.subplot(3,1,3)\n",
        "ax1 = sns.barplot(stream, y='artist', x='streams')\n",
        "ax1.set_xlabel('Total Streams')\n",
        "ax1.set_title('Top artist according to Streams')\n",
        "\n",
        "plt.tight_layout()\n",
        "plt.show()"
      ],
      "metadata": {
        "execution": {
          "iopub.status.busy": "2024-04-12T18:02:11.920825Z",
          "iopub.execute_input": "2024-04-12T18:02:11.921338Z",
          "iopub.status.idle": "2024-04-12T18:02:12.871629Z",
          "shell.execute_reply.started": "2024-04-12T18:02:11.921309Z",
          "shell.execute_reply": "2024-04-12T18:02:12.87074Z"
        },
        "trusted": true,
        "id": "sZah3Zasv3Ff"
      },
      "execution_count": null,
      "outputs": []
    },
    {
      "cell_type": "markdown",
      "source": [
        "\"Pharell Williams\", \"Latto\" and \"The Weeknd\" dominated the playlist, chart and streams game respectively"
      ],
      "metadata": {
        "id": "Gt3XxoZPv3Ff"
      }
    },
    {
      "cell_type": "markdown",
      "source": [
        "## Top 10 artist by stream and their danceability, energy, valence and liveliness"
      ],
      "metadata": {
        "id": "OJOwf5AYv3Fg"
      }
    },
    {
      "cell_type": "code",
      "source": [
        "topten = df.sort_values(by='streams', ascending=False)\n",
        "topten = topten[['artist', 'danceability_%', 'valence_%', 'energy_%', 'liveness_%', 'streams']][:5]\n",
        "topten = pd.melt(topten, id_vars=['artist'], value_vars=['danceability_%', 'valence_%', 'energy_%', 'liveness_%'], var_name='type_of_%', value_name='value')\n",
        "\n",
        "ax = sns.barplot(x='artist', y='value', hue='type_of_%', data=topten)\n",
        "ax.legend(bbox_to_anchor=(1, 1))\n",
        "ax.set(xlabel='Artist', ylabel='%')\n",
        "ax.set_title('Top 5 Artist by streams and Their Vibes')\n",
        "\n",
        "plt.show()"
      ],
      "metadata": {
        "execution": {
          "iopub.status.busy": "2024-04-12T18:02:12.87291Z",
          "iopub.execute_input": "2024-04-12T18:02:12.873435Z",
          "iopub.status.idle": "2024-04-12T18:02:13.262156Z",
          "shell.execute_reply.started": "2024-04-12T18:02:12.873397Z",
          "shell.execute_reply": "2024-04-12T18:02:13.261235Z"
        },
        "trusted": true,
        "id": "W49uP10Wv3Fg"
      },
      "execution_count": null,
      "outputs": []
    },
    {
      "cell_type": "markdown",
      "source": [
        "* \"Ed Sheeran\" and \"Post Malone\" songs are more cheerful or happy than rest of the artist (according to valency)\n",
        "* \"Tones and I\" have to compete with \"Ed Sheeran\" for danceability of their songs\n",
        "* \"The Weeknd\" have the most energetic songs\n",
        "* All artist's songs are low on liveness\n"
      ],
      "metadata": {
        "id": "YkC9nX1tv3Fg"
      }
    },
    {
      "cell_type": "markdown",
      "source": [
        "## Top 10 songs and their relation with danceability, valence, energy and liveness"
      ],
      "metadata": {
        "id": "hzsoqzijv3Fg"
      }
    },
    {
      "cell_type": "code",
      "source": [
        "topten = df.sort_values(by='streams', ascending=False)\n",
        "topten = topten[['track_name', 'danceability_%', 'valence_%', 'energy_%', 'liveness_%']][:5]\n",
        "topten = topten.replace('Sunflower - Spider-Man: Into the Spider-Verse', 'Sunflower').set_index('track_name')\n",
        "\n",
        "ax = sns.lineplot(data=topten, markers=True)\n",
        "ax.legend(bbox_to_anchor=(1, 1))\n",
        "plt.xticks(rotation=10)\n",
        "plt.title(\"Top 5 Songs according to number of Streams\", fontsize = 12, color = 'darkblue')\n",
        "ax.set_ylabel('Percentage')\n",
        "ax.set_xlabel('Track Name')\n",
        "\n",
        "plt.show()"
      ],
      "metadata": {
        "execution": {
          "iopub.status.busy": "2024-04-12T18:02:13.263574Z",
          "iopub.execute_input": "2024-04-12T18:02:13.264197Z",
          "iopub.status.idle": "2024-04-12T18:02:13.659855Z",
          "shell.execute_reply.started": "2024-04-12T18:02:13.264163Z",
          "shell.execute_reply": "2024-04-12T18:02:13.658897Z"
        },
        "trusted": true,
        "id": "ZvcJXh7Xv3Fg"
      },
      "execution_count": null,
      "outputs": []
    },
    {
      "cell_type": "markdown",
      "source": [
        "* \"Shape of You\" and \"Sunflower\" are more positive songs\n",
        "* \"Dance Monkey\" and \"Shape of You\" are best songs to dance on\n",
        "* \"Blinding Lights\" is the most energetic song"
      ],
      "metadata": {
        "id": "PxkUYGYAv3Fh"
      }
    },
    {
      "cell_type": "code",
      "source": [],
      "metadata": {
        "id": "Ut0o4I_Kv3Fh"
      },
      "execution_count": null,
      "outputs": []
    }
  ]
}